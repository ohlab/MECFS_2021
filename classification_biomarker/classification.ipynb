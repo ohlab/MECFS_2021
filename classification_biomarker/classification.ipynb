{
 "cells": [
  {
   "cell_type": "code",
   "execution_count": 2,
   "metadata": {},
   "outputs": [],
   "source": [
    "def Classification(X, y):\n",
    "    # Logistic Regression\n",
    "    logistic = LogisticRegression(penalty='elasticnet', solver='saga', \n",
    "                              max_iter = 1e8, tol=1e-04, \n",
    "                              random_state = random_num)\n",
    "    hyperp_logistic = {'l1_ratio' : [0, 0.25, 0.5, 0.75, 1],\n",
    "                 'C' : [0.001, 0.01, 0.1, 0.5, 1, 2, 4]}\n",
    "    grid_logistic = RandomizedSearchCV(logistic, hyperp_logistic, \n",
    "                             scoring='neg_mean_squared_error', cv=5, return_train_score=True)\n",
    "    # non-linear SVM\n",
    "    non_linear_SVM = SVC(gamma='scale', probability=True, \n",
    "                     max_iter = -1, tol=1e-04, \n",
    "                     decision_function_shape='ovr',\n",
    "                     random_state = random_num)\n",
    "    hyperp_non_linear_SVM = {'kernel' : ['poly', 'rbf', 'sigmoid'], \n",
    "                        'C' : [0.001, 0.01, 0.1, 0.5, 1, 2, 4], \n",
    "                        'degree': [2, 3, 4, 5]}\n",
    "    grid_non_linear_SVM = RandomizedSearchCV(non_linear_SVM, hyperp_non_linear_SVM,\n",
    "                             scoring='balanced_accuracy', cv=5, return_train_score=True)\n",
    "    \n",
    "    # Random Forest\n",
    "    RF = RandomForestClassifier(bootstrap=True, n_estimators=100, random_state=random_num)\n",
    "                                  \n",
    "    hyperp_RF = {'criterion': ['gini', 'entropy'],\n",
    "               'max_depth':[2,3,4,5,6,7],\n",
    "               'min_samples_split':[2,4,6,8,10,20,40,60,100],\n",
    "               'min_samples_leaf':[1,3,5,7,9],\n",
    "               'max_features':[2,5,10,20,30,35,40]}                             \n",
    "    grid_RF = RandomizedSearchCV(RF, hyperp_RF,\n",
    "                    scoring='accuracy', cv=5, return_train_score=True)\n",
    "    \n",
    "    # GDBT\n",
    "    GDBT = GradientBoostingClassifier(n_estimators=100, random_state=random_num)\n",
    "                                  \n",
    "    hyperp_GDBT = {'learning_rate': [0.15,0.1,0.05,0.01,0.005,0.001],\n",
    "              'max_depth':[2,3,4,5,6,7],\n",
    "              'min_samples_split':[2,4,6,8,10,20,40,60,100],\n",
    "              'min_samples_leaf':[1,3,5,7,9],\n",
    "              'max_features':[2,5,10,20,30,35,40],\n",
    "              'subsample':[0.7,0.75,0.8,0.85,0.9,0.95,1]}                                 \n",
    "    grid_GDBT = RandomizedSearchCV(GDBT, hyperp_GDBT,\n",
    "                        scoring='accuracy', cv=5, return_train_score=True)\n",
    "    \n",
    "    logistic_model=grid_logistic.fit(X,y).best_estimator_\n",
    "    non_linear_SVM_model=grid_non_linear_SVM.fit(X,y).best_estimator_\n",
    "    GDBT_model = grid_GDBT.fit(X,y).best_estimator_\n",
    "    RF_model = grid_RF.fit(X,y).best_estimator_\n",
    "    models_list = [logistic_model, non_linear_SVM_model, GDBT_model, RF_model]\n",
    "    \n",
    "    logistic_y_pred = model_selection.cross_val_predict(logistic_model, X, y, cv=10,\n",
    "                                                   method='predict')\n",
    "    logistic_y_prob = model_selection.cross_val_predict(logistic_model, X, y, cv=10,\n",
    "                                                   method='predict_proba')\n",
    "    \n",
    "    non_linear_SVM_y_pred = model_selection.cross_val_predict(non_linear_SVM_model, X, y, cv=10,\n",
    "                                                   method='predict')\n",
    "    non_linear_SVM_y_prob = model_selection.cross_val_predict(non_linear_SVM_model, X, y, cv=10,\n",
    "                                                   method='predict_proba')\n",
    "    \n",
    "    GDBT_y_pred = model_selection.cross_val_predict(GDBT_model, X, y, cv=10,\n",
    "                                                   method='predict')\n",
    "    GDBT_y_prob = model_selection.cross_val_predict(GDBT_model, X, y, cv=10,\n",
    "                                                   method='predict_proba')\n",
    "    \n",
    "    RF_y_pred = model_selection.cross_val_predict(RF_model, X, y, cv=10,\n",
    "                                                   method='predict')\n",
    "    RF_y_prob = model_selection.cross_val_predict(RF_model, X, y, cv=10,\n",
    "                                                   method='predict_proba')\n",
    "    \n",
    "    y_pred = pd.DataFrame([y, logistic_y_pred, non_linear_SVM_y_pred, GDBT_y_pred, RF_y_pred],\n",
    "                     index=[\"y_true\",\"logistic\", \"non_linear_SVM\", \"GDBT\", \"RF\"])\n",
    "    y_pred.columns = X.index\n",
    "    y_pred = y_pred.sort_values('y_true', axis=1)\n",
    "    y_pred = y_pred.transpose()\n",
    "    \n",
    "    y_prob = pd.DataFrame([y, logistic_y_prob, non_linear_SVM_y_prob, GDBT_y_prob, RF_y_prob],\n",
    "                     index=[\"y_true\",\"logistic\", \"non_linear_SVM\", \"GDBT\", \"RF\"])\n",
    "    y_prob.columns = X.index\n",
    "    y_prob = y_prob.sort_values('y_true', axis=1)\n",
    "    y_prob = y_prob.transpose()\n",
    "    return(y_pred, y_prob, models_list)"
   ]
  },
  {
   "cell_type": "code",
   "execution_count": 3,
   "metadata": {},
   "outputs": [],
   "source": [
    "root=\"/projects/ohlab/ruoyun/MECFS/train_model/MECFS\"\n",
    "\n",
    "kegg_table_patient=\"kegg_gene_patient_control_table_for_classification.txt\"\n",
    "metabolomics_table_patient=\"metabolomics_patient_control_table_for_classification.csv\"\n",
    "kegg_table_onset=\"kegg_gene_onset_table_for_classification.txt\"\n",
    "metabolomics_table_onset=\"metabolomics_onset_table_for_classification.csv\"\n",
    "\n",
    "abundance_table=\"metaphlan3_specie_filtered_zscored_071020.csv\"\n",
    "meta_table=\"MECFS_metadata_lables_062320.csv\""
   ]
  },
  {
   "cell_type": "code",
   "execution_count": 4,
   "metadata": {},
   "outputs": [],
   "source": [
    "import pandas as pd\n",
    "import numpy as np\n",
    "import glob\n",
    "\n",
    "import matplotlib.pyplot as plt\n",
    "import seaborn as sns"
   ]
  },
  {
   "cell_type": "code",
   "execution_count": 5,
   "metadata": {},
   "outputs": [],
   "source": [
    "# classifiers\n",
    "from sklearn.linear_model import LogisticRegression\n",
    "from sklearn.svm import SVC\n",
    "from sklearn.ensemble import RandomForestClassifier\n",
    "from sklearn.ensemble import GradientBoostingClassifier"
   ]
  },
  {
   "cell_type": "code",
   "execution_count": 6,
   "metadata": {},
   "outputs": [],
   "source": [
    "#grid search\n",
    "from sklearn.model_selection import RandomizedSearchCV\n",
    "\n",
    "#save model\n",
    "from joblib import dump, load\n",
    "\n",
    "#validation\n",
    "from sklearn import model_selection\n",
    "from sklearn import metrics\n",
    "from sklearn.preprocessing import label_binarize"
   ]
  },
  {
   "cell_type": "code",
   "execution_count": 7,
   "metadata": {},
   "outputs": [],
   "source": [
    "random_num = 1015"
   ]
  },
  {
   "cell_type": "markdown",
   "metadata": {},
   "source": [
    "---\n",
    "\n",
    "# import dataset here"
   ]
  },
  {
   "cell_type": "code",
   "execution_count": 8,
   "metadata": {
    "scrolled": true
   },
   "outputs": [
    {
     "name": "stdout",
     "output_type": "stream",
     "text": [
      "(169, 14)\n",
      "(169, 224)\n",
      "(1000, 1)\n",
      "(1000, 224)\n",
      "(1000, 1)\n",
      "(1000, 224)\n",
      "(400, 12)\n",
      "(400, 184)\n",
      "(400, 12)\n",
      "(400, 184)\n",
      "(5, 228)\n"
     ]
    }
   ],
   "source": [
    "rela_abun = pd.read_csv(\"%s/data/metagenomics/%s\" %(root, abundance_table), \n",
    "                   index_col=0)\n",
    "rela_abun_decode = rela_abun.iloc[:,:14]\n",
    "rela_abun_data = rela_abun.iloc[:,14:]\n",
    "print(rela_abun_decode.shape)\n",
    "print(rela_abun_data.shape)\n",
    "\n",
    "kegg_patient = pd.read_table(\"%s/result/feature_selection/%s\" %(root, kegg_table_patient), \n",
    "                     sep='\\t', index_col=0)\n",
    "kegg_patient_decode = kegg_patient.iloc[:,:1]\n",
    "kegg_patient_data = kegg_patient.iloc[:,1:]\n",
    "print(kegg_patient_decode.shape)\n",
    "print(kegg_patient_data.shape)\n",
    "\n",
    "kegg_onset = pd.read_table(\"%s/result/feature_selection/%s\" %(root, kegg_table_onset), \n",
    "                     sep='\\t', index_col=0)\n",
    "kegg_onset_decode = kegg_onset.iloc[:,:1]\n",
    "kegg_onset_data = kegg_onset.iloc[:,1:]\n",
    "print(kegg_onset_decode.shape)\n",
    "print(kegg_onset_data.shape)\n",
    "\n",
    "bioc_patient = pd.read_csv(\"%s/result/feature_selection/%s\" %(root, metabolomics_table_onset), \n",
    "                   index_col=0)\n",
    "bioc_patient_decode = bioc_patient.iloc[:,:12]\n",
    "bioc_patient_data = bioc_patient.iloc[:,12:]\n",
    "print(bioc_patient_decode.shape)\n",
    "print(bioc_patient_data.shape)\n",
    "\n",
    "bioc_onset = pd.read_csv(\"%s/result/feature_selection/%s\" %(root, metabolomics_table_onset), \n",
    "                   index_col=0)\n",
    "bioc_onset_decode = bioc_onset.iloc[:,:12]\n",
    "bioc_onset_data = bioc_onset.iloc[:,12:]\n",
    "print(bioc_onset_decode.shape)\n",
    "print(bioc_onset_data.shape)\n",
    "\n",
    "meta = pd.read_csv(\"%s/data/metadata/%s\" %(root, meta_table), \n",
    "                   index_col=0)\n",
    "meta_decode = meta.iloc[:, :4]\n",
    "meta_data = meta.iloc[:, 4:]\n",
    "\n",
    "print(meta_data.shape)"
   ]
  },
  {
   "cell_type": "markdown",
   "metadata": {},
   "source": [
    "# Patient vs Control"
   ]
  },
  {
   "cell_type": "code",
   "execution_count": 9,
   "metadata": {},
   "outputs": [],
   "source": [
    "y_full = meta_data.loc['study_ptorhc', :]"
   ]
  },
  {
   "cell_type": "code",
   "execution_count": 11,
   "metadata": {},
   "outputs": [],
   "source": [
    "X = rela_abun_data[:].transpose()\n",
    "y = y_full[X.index].to_numpy()\n",
    "abun_y_pred, abun_y_prob, abun_models = Classification(X, y)"
   ]
  },
  {
   "cell_type": "code",
   "execution_count": null,
   "metadata": {},
   "outputs": [],
   "source": [
    "X = kegg_patient_data[:].transpose()\n",
    "y = y_full[X.index].to_numpy()\n",
    "kegg_y_pred, kegg_y_prob, kegg_models = Classification(X, y)"
   ]
  },
  {
   "cell_type": "code",
   "execution_count": null,
   "metadata": {},
   "outputs": [],
   "source": [
    "X = bioc_patient_data[:].transpose()\n",
    "y = y_full[X.index].to_numpy()\n",
    "bioc_y_pred, bioc_y_prob, bioc_models = Classification(X, y)"
   ]
  },
  {
   "cell_type": "code",
   "execution_count": null,
   "metadata": {},
   "outputs": [],
   "source": [
    "abun_y_pred.to_csv(\"%s/result/classification/abun_y_pred_patient.csv\" %(root))\n",
    "abun_y_prob.to_csv(\"%s/result/classification/abun_y_prob_patient.csv\" %(root))\n",
    "kegg_y_pred.to_csv(\"%s/result/classification/kegg_y_pred_patient.csv\" %(root))\n",
    "kegg_y_prob.to_csv(\"%s/result/classification/kegg_y_prob_patient.csv\" %(root))\n",
    "bioc_y_pred.to_csv(\"%s/result/classification/bioc_y_pred_patient.csv\" %(root))\n",
    "bioc_y_prob.to_csv(\"%s/result/classification/bioc_y_prob_patient.csv\" %(root))"
   ]
  },
  {
   "cell_type": "code",
   "execution_count": 13,
   "metadata": {},
   "outputs": [
    {
     "data": {
      "text/plain": [
       "[LogisticRegression(C=0.5, class_weight=None, dual=False, fit_intercept=True,\n",
       "                    intercept_scaling=1, l1_ratio=0.5, max_iter=100000000.0,\n",
       "                    multi_class='auto', n_jobs=None, penalty='elasticnet',\n",
       "                    random_state=1015, solver='saga', tol=0.0001, verbose=0,\n",
       "                    warm_start=False),\n",
       " SVC(C=2, break_ties=False, cache_size=200, class_weight=None, coef0=0.0,\n",
       "     decision_function_shape='ovr', degree=3, gamma='scale', kernel='rbf',\n",
       "     max_iter=-1, probability=True, random_state=1015, shrinking=True,\n",
       "     tol=0.0001, verbose=False),\n",
       " GradientBoostingClassifier(ccp_alpha=0.0, criterion='friedman_mse', init=None,\n",
       "                            learning_rate=0.05, loss='deviance', max_depth=7,\n",
       "                            max_features=2, max_leaf_nodes=None,\n",
       "                            min_impurity_decrease=0.0, min_impurity_split=None,\n",
       "                            min_samples_leaf=9, min_samples_split=20,\n",
       "                            min_weight_fraction_leaf=0.0, n_estimators=100,\n",
       "                            n_iter_no_change=None, presort='deprecated',\n",
       "                            random_state=1015, subsample=0.8, tol=0.0001,\n",
       "                            validation_fraction=0.1, verbose=0,\n",
       "                            warm_start=False),\n",
       " RandomForestClassifier(bootstrap=True, ccp_alpha=0.0, class_weight=None,\n",
       "                        criterion='entropy', max_depth=7, max_features=10,\n",
       "                        max_leaf_nodes=None, max_samples=None,\n",
       "                        min_impurity_decrease=0.0, min_impurity_split=None,\n",
       "                        min_samples_leaf=9, min_samples_split=6,\n",
       "                        min_weight_fraction_leaf=0.0, n_estimators=100,\n",
       "                        n_jobs=None, oob_score=False, random_state=1015,\n",
       "                        verbose=0, warm_start=False)]"
      ]
     },
     "execution_count": 13,
     "metadata": {},
     "output_type": "execute_result"
    }
   ],
   "source": [
    "models = {\n",
    "    'abundance' : abun_models,\n",
    "    'metabolomics': bioc_models,\n",
    "    'kegg' : kegg_models\n",
    "}\n",
    "dump(models, \"%s/result/classification/patient_control_models_dictionary.joblib\" %(root))"
   ]
  },
  {
   "cell_type": "markdown",
   "metadata": {},
   "source": [
    "# Onset"
   ]
  },
  {
   "cell_type": "code",
   "execution_count": null,
   "metadata": {},
   "outputs": [],
   "source": [
    "y_full = meta_data.loc['illness_duration', :]\n",
    "\n",
    "X = rela_abun_data[:].transpose()\n",
    "y = y_full[X.index].to_numpy()\n",
    "abun_y_pred, abun_y_prob, abun_models = Classification(X, y)\n",
    "\n",
    "X = kegg_onset_data[:].transpose()\n",
    "y = y_full[X.index].to_numpy()\n",
    "kegg_y_pred, kegg_y_prob, kegg_models = Classification(X, y)\n",
    "\n",
    "X = bioc_onset_data[:].transpose()\n",
    "y = y_full[X.index].to_numpy()\n",
    "bioc_y_pred, bioc_y_prob, bioc_models = Classification(X, y)\n",
    "\n",
    "abun_y_pred.to_csv(\"%s/result/classification/abun_y_pred_onset.csv\" %(root))\n",
    "abun_y_prob.to_csv(\"%s/result/classification/abun_y_prob_onset.csv\" %(root))\n",
    "kegg_y_pred.to_csv(\"%s/result/classification/kegg_y_pred_onset.csv\" %(root))\n",
    "kegg_y_prob.to_csv(\"%s/result/classification/kegg_y_prob_onset.csv\" %(root))\n",
    "bioc_y_pred.to_csv(\"%s/result/classification/bioc_y_pred_onset.csv\" %(root))\n",
    "bioc_y_prob.to_csv(\"%s/result/classification/bioc_y_prob_onset.csv\" %(root))"
   ]
  },
  {
   "cell_type": "code",
   "execution_count": null,
   "metadata": {},
   "outputs": [],
   "source": [
    "models = {\n",
    "    'abundance' : abun_models,\n",
    "    'metabolomics': bioc_models,\n",
    "    'kegg' : kegg_models\n",
    "}\n",
    "dump(models, \"%s/result/classification/onset_models_dictionary.joblib\" %(root))"
   ]
  },
  {
   "cell_type": "markdown",
   "metadata": {},
   "source": [
    "# confusion matrix"
   ]
  },
  {
   "cell_type": "code",
   "execution_count": 21,
   "metadata": {},
   "outputs": [
    {
     "data": {
      "text/plain": [
       "Text(0.5, 0.98, 'y_pred_patient')"
      ]
     },
     "execution_count": 21,
     "metadata": {},
     "output_type": "execute_result"
    },
    {
     "data": {
      "image/png": "[encoded data removed]",
      "text/plain": [
       "<Figure size 1800x720 with 3 Axes>"
      ]
     },
     "metadata": {},
     "output_type": "display_data"
    }
   ],
   "source": [
    "filenames = glob.glob(\"%s/result/classification/*_y_pred_patient.csv\" %(root))\n",
    "file = [pd.read_csv(f, index_col = 0) for f in filenames]\n",
    "\n",
    "sns.set(style='white', font_scale=2)\n",
    "fig = plt.figure(figsize=(25,10))\n",
    "\n",
    "for i in range(len(filenames)):\n",
    "    ax = fig.add_subplot(1, 3, i+1)\n",
    "    title = filenames[i].split(\"/\")[-1].split(\"_y_pred_patient.csv\")[0]\n",
    "    sns.heatmap(file[i], ax=ax, cbar=False)\n",
    "    ax.set_title(title)\n",
    "    plt.yticks([])\n",
    "plt.suptitle('y_pred_patient')"
   ]
  },
  {
   "cell_type": "code",
   "execution_count": 22,
   "metadata": {},
   "outputs": [
    {
     "data": {
      "text/plain": [
       "Text(0.5, 0.98, 'y_pred_onset')"
      ]
     },
     "execution_count": 22,
     "metadata": {},
     "output_type": "execute_result"
    },
    {
     "data": {
      "image/png": "[encoded data removed]",
      "text/plain": [
       "<Figure size 1800x720 with 3 Axes>"
      ]
     },
     "metadata": {},
     "output_type": "display_data"
    }
   ],
   "source": [
    "filenames = glob.glob(\"%s/result/classification/*_y_pred_onset.csv\" %(root))\n",
    "file = [pd.read_csv(f, index_col = 0) for f in filenames]\n",
    "\n",
    "sns.set(style='white', font_scale=2)\n",
    "fig = plt.figure(figsize=(25,10))\n",
    "\n",
    "for i in range(len(filenames)):\n",
    "    ax = fig.add_subplot(1, 3, i+1)\n",
    "    title = filenames[i].split(\"/\")[-1].split(\"_y_pred_onset.csv\")[0]\n",
    "    sns.heatmap(file[i], ax=ax, cbar=False)\n",
    "    ax.set_title(title)\n",
    "    plt.yticks([])\n",
    "plt.suptitle('y_pred_onset')"
   ]
  }
 ],
 "metadata": {
  "kernelspec": {
   "display_name": "Python 3 (ipykernel)",
   "language": "python",
   "name": "python3"
  },
  "language_info": {
   "codemirror_mode": {
    "name": "ipython",
    "version": 3
   },
   "file_extension": ".py",
   "mimetype": "text/x-python",
   "name": "python",
   "nbconvert_exporter": "python",
   "pygments_lexer": "ipython3",
   "version": "3.10.4"
  }
 },
 "nbformat": 4,
 "nbformat_minor": 4
}
