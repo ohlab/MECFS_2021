{
 "cells": [
  {
   "cell_type": "code",
   "execution_count": 8,
   "metadata": {},
   "outputs": [],
   "source": [
    "root=\"/projects/ohlab/ruoyun/MECFS/train_model/MECFS\"\n",
    "\n",
    "kegg_table_patient=\"kegg_gene_patient_control_table_for_classification.txt\"\n",
    "metabolomics_table_patient=\"metabolomics_patient_control_table_for_classification.csv\"\n",
    "kegg_table_onset=\"kegg_gene_onset_table_for_classification.txt\"\n",
    "metabolomics_table_onset=\"metabolomics_onset_table_for_classification.csv\"\n",
    "\n",
    "abundance_table=\"metaphlan3_specie_filtered_zscored_071020.csv\"\n",
    "meta_table=\"MECFS_metadata_labels_062320.csv\""
   ]
  },
  {
   "cell_type": "code",
   "execution_count": 9,
   "metadata": {},
   "outputs": [],
   "source": [
    "import pandas as pd\n",
    "import numpy as np\n",
    "import glob\n",
    "import random\n",
    "\n",
    "import matplotlib.pyplot as plt\n",
    "import seaborn as sns"
   ]
  },
  {
   "cell_type": "code",
   "execution_count": 10,
   "metadata": {},
   "outputs": [],
   "source": [
    "# classifiers\n",
    "from sklearn.linear_model import LogisticRegression\n",
    "from sklearn.svm import SVC\n",
    "from sklearn.ensemble import RandomForestClassifier\n",
    "from sklearn.ensemble import GradientBoostingClassifier\n",
    "from sklearn.ensemble import VotingClassifier"
   ]
  },
  {
   "cell_type": "code",
   "execution_count": 11,
   "metadata": {},
   "outputs": [],
   "source": [
    "#grid search\n",
    "from sklearn.model_selection import RandomizedSearchCV\n",
    "\n",
    "#save model\n",
    "from joblib import dump, load\n",
    "\n",
    "#validation\n",
    "from sklearn import model_selection\n",
    "from sklearn import metrics\n",
    "from sklearn.preprocessing import label_binarize"
   ]
  },
  {
   "cell_type": "code",
   "execution_count": 12,
   "metadata": {},
   "outputs": [],
   "source": [
    "random_num = 1015"
   ]
  },
  {
   "cell_type": "markdown",
   "metadata": {},
   "source": [
    "---\n",
    "\n",
    "# import dataset here"
   ]
  },
  {
   "cell_type": "code",
   "execution_count": 13,
   "metadata": {
    "scrolled": true
   },
   "outputs": [
    {
     "name": "stdout",
     "output_type": "stream",
     "text": [
      "(169, 14)\n",
      "(169, 224)\n",
      "(1000, 1)\n",
      "(1000, 224)\n",
      "(1000, 1)\n",
      "(1000, 224)\n",
      "(400, 12)\n",
      "(400, 184)\n",
      "(400, 12)\n",
      "(400, 184)\n",
      "(6, 228)\n"
     ]
    }
   ],
   "source": [
    "rela_abun = pd.read_csv(\"%s/data/metagenomics/%s\" %(root, abundance_table), \n",
    "                   index_col=0)\n",
    "rela_abun_decode = rela_abun.iloc[:,:14]\n",
    "rela_abun_data = rela_abun.iloc[:,14:]\n",
    "print(rela_abun_decode.shape)\n",
    "print(rela_abun_data.shape)\n",
    "\n",
    "kegg_patient = pd.read_table(\"%s/result/feature_selection/%s\" %(root, kegg_table_patient), \n",
    "                     sep='\\t', index_col=0)\n",
    "kegg_patient_decode = kegg_patient.iloc[:,:1]\n",
    "kegg_patient_data = kegg_patient.iloc[:,1:]\n",
    "print(kegg_patient_decode.shape)\n",
    "print(kegg_patient_data.shape)\n",
    "\n",
    "kegg_onset = pd.read_table(\"%s/result/feature_selection/%s\" %(root, kegg_table_onset), \n",
    "                     sep='\\t', index_col=0)\n",
    "kegg_onset_decode = kegg_onset.iloc[:,:1]\n",
    "kegg_onset_data = kegg_onset.iloc[:,1:]\n",
    "print(kegg_onset_decode.shape)\n",
    "print(kegg_onset_data.shape)\n",
    "\n",
    "bioc_patient = pd.read_csv(\"%s/result/feature_selection/%s\" %(root, metabolomics_table_onset), \n",
    "                   index_col=0)\n",
    "bioc_patient_decode = bioc_patient.iloc[:,:12]\n",
    "bioc_patient_data = bioc_patient.iloc[:,12:]\n",
    "print(bioc_patient_decode.shape)\n",
    "print(bioc_patient_data.shape)\n",
    "\n",
    "bioc_onset = pd.read_csv(\"%s/result/feature_selection/%s\" %(root, metabolomics_table_onset), \n",
    "                   index_col=0)\n",
    "bioc_onset_decode = bioc_onset.iloc[:,:12]\n",
    "bioc_onset_data = bioc_onset.iloc[:,12:]\n",
    "print(bioc_onset_decode.shape)\n",
    "print(bioc_onset_data.shape)\n",
    "\n",
    "meta = pd.read_csv(\"%s/data/metadata/%s\" %(root, meta_table), \n",
    "                   index_col=0)\n",
    "meta_decode = meta.iloc[:, :4]\n",
    "meta_data = meta.iloc[:, 4:]\n",
    "\n",
    "print(meta_data.shape)"
   ]
  },
  {
   "cell_type": "markdown",
   "metadata": {},
   "source": [
    "# Patient vs Control"
   ]
  },
  {
   "cell_type": "code",
   "execution_count": 14,
   "metadata": {},
   "outputs": [],
   "source": [
    "y_full = meta_data.loc['study_ptorhc', :]\n",
    "model_list = load(\"%s/result/classification/patient_control_models_dictionary.joblib\" %(root))"
   ]
  },
  {
   "cell_type": "markdown",
   "metadata": {},
   "source": [
    "# abundance"
   ]
  },
  {
   "cell_type": "code",
   "execution_count": 15,
   "metadata": {},
   "outputs": [],
   "source": [
    "X = rela_abun_data[:].transpose()\n",
    "y = y_full[X.index].to_numpy()"
   ]
  },
  {
   "cell_type": "code",
   "execution_count": 16,
   "metadata": {},
   "outputs": [],
   "source": [
    "ramdon_num_list = random.sample(range(1, 2000), 200)\n",
    "imp_f_list = []\n",
    "modle_list = []\n",
    "    \n",
    "for i in ramdon_num_list:\n",
    "    ens = GradientBoostingClassifier(ccp_alpha=0.0, criterion='friedman_mse', init=None,\n",
    "                             learning_rate=0.05, loss='deviance', max_depth=5,\n",
    "                             max_features=5, max_leaf_nodes=None,\n",
    "                             min_impurity_decrease=0.0, min_impurity_split=None,\n",
    "                             min_samples_leaf=3, min_samples_split=8,\n",
    "                             min_weight_fraction_leaf=0.0, n_estimators=100,\n",
    "                             n_iter_no_change=None, presort='deprecated',\n",
    "                             random_state=i, subsample=0.8, tol=0.0001,\n",
    "                             validation_fraction=0.1, verbose=0,\n",
    "                             warm_start=False)\n",
    "    modle_list.append((\"%s\" %(i), ens))\n",
    "    ens.fit(X, y)\n",
    "    imp = ens.feature_importances_\n",
    "    imp_f_list.append(imp)\n",
    "        \n",
    "imp = pd.DataFrame(imp_f_list, columns=X.columns).mean()    \n",
    "imp = imp.sort_values(ascending=False)"
   ]
  },
  {
   "cell_type": "code",
   "execution_count": 19,
   "metadata": {},
   "outputs": [],
   "source": [
    "abun_imp_features_patient = imp[:10]"
   ]
  },
  {
   "cell_type": "code",
   "execution_count": 20,
   "metadata": {},
   "outputs": [
    {
     "data": {
      "text/plain": [
       "1\n",
       "1262824|Clostridium_sp_CAG_58              0.022051\n",
       "360807|Roseburia_inulinivorans             0.022015\n",
       "33038|Ruminococcus_gnavus                  0.021486\n",
       "418240|Blautia_wexlerae                    0.021177\n",
       "292800|Flavonifractor_plautii              0.020219\n",
       "1550024|Ruthenibacterium_lactatiformans    0.019841\n",
       "2108523|Lawsonibacter_asaccharolyticus     0.018167\n",
       "28118|Odoribacter_splanchnicus             0.017737\n",
       "853|Faecalibacterium_prausnitzii           0.015651\n",
       "1681|Bifidobacterium_bifidum               0.015081\n",
       "dtype: float64"
      ]
     },
     "execution_count": 20,
     "metadata": {},
     "output_type": "execute_result"
    }
   ],
   "source": [
    "abun_imp_features_patient"
   ]
  },
  {
   "cell_type": "markdown",
   "metadata": {},
   "source": [
    "# metabolomics"
   ]
  },
  {
   "cell_type": "code",
   "execution_count": 21,
   "metadata": {},
   "outputs": [],
   "source": [
    "X = bioc_patient_data[:].transpose()\n",
    "y = y_full[X.index].to_numpy()\n",
    "\n",
    "ramdon_num_list = random.sample(range(1, 2000), 200)\n",
    "imp_f_list = []\n",
    "gdbt_list = []\n",
    "\n",
    "for i in ramdon_num_list:\n",
    "    GDBT = GradientBoostingClassifier(ccp_alpha=0.0, criterion='friedman_mse', init=None,\n",
    "                             learning_rate=0.05, loss='deviance', max_depth=5,\n",
    "                             max_features=30, max_leaf_nodes=None,\n",
    "                             min_impurity_decrease=0.0, min_impurity_split=None,\n",
    "                             min_samples_leaf=9, min_samples_split=60,\n",
    "                             min_weight_fraction_leaf=0.0, n_estimators=100,\n",
    "                             n_iter_no_change=None, presort='deprecated',\n",
    "                             random_state=i, subsample=1, tol=0.0001,\n",
    "                             validation_fraction=0.1, verbose=0,\n",
    "                             warm_start=False)\n",
    "    gdbt_list.append((\"%s\" %(i), GDBT))\n",
    "    GDBT.fit(X, y)\n",
    "    imp = GDBT.feature_importances_\n",
    "    imp_f_list.append(imp)\n",
    "    \n",
    "imp = pd.DataFrame(imp_f_list, columns=X.columns).mean()    \n",
    "imp = imp.sort_values(ascending=False)"
   ]
  },
  {
   "cell_type": "code",
   "execution_count": 22,
   "metadata": {},
   "outputs": [],
   "source": [
    "bioc_imp_features_patient = imp[:10]"
   ]
  },
  {
   "cell_type": "code",
   "execution_count": 23,
   "metadata": {},
   "outputs": [
    {
     "data": {
      "text/plain": [
       "cholesterol                                     0.044102\n",
       "X - 21442                                       0.038969\n",
       "X - 25172                                       0.038627\n",
       "guanidinosuccinate                              0.032042\n",
       "sphingomyelin (d18:2/21:0, d16:2/23:0)*         0.023786\n",
       "1-stearoyl-2-docosahexaenoyl-GPC (18:0/22:6)    0.023036\n",
       "serotonin                                       0.022485\n",
       "3-(4-hydroxyphenyl)lactate (HPLA)               0.021332\n",
       "betaine                                         0.021072\n",
       "X - 24545                                       0.021063\n",
       "dtype: float64"
      ]
     },
     "execution_count": 23,
     "metadata": {},
     "output_type": "execute_result"
    }
   ],
   "source": [
    "bioc_imp_features_patient"
   ]
  },
  {
   "cell_type": "markdown",
   "metadata": {},
   "source": [
    "# Kegg gene "
   ]
  },
  {
   "cell_type": "code",
   "execution_count": 24,
   "metadata": {},
   "outputs": [],
   "source": [
    "X = kegg_patient_data[:].transpose()\n",
    "y = y_full[X.index].to_numpy()\n",
    "\n",
    "ramdon_num_list = random.sample(range(1, 2000), 200)\n",
    "imp_f_list = []\n",
    "gdbt_list = []\n",
    "for i in ramdon_num_list:\n",
    "    GDBT = GradientBoostingClassifier(ccp_alpha=0.0, criterion='friedman_mse', init=None,\n",
    "                             learning_rate=0.1, loss='deviance', max_depth=4,\n",
    "                             max_features=10, max_leaf_nodes=None,\n",
    "                             min_impurity_decrease=0.0, min_impurity_split=None,\n",
    "                             min_samples_leaf=7, min_samples_split=10,\n",
    "                             min_weight_fraction_leaf=0.0, n_estimators=100,\n",
    "                             n_iter_no_change=None, presort='deprecated',\n",
    "                             random_state=i, subsample=0.7, tol=0.0001,\n",
    "                             validation_fraction=0.1, verbose=0,\n",
    "                             warm_start=False)\n",
    "    gdbt_list.append((\"%s\" %(i), GDBT))\n",
    "    GDBT.fit(X, y)\n",
    "    imp = GDBT.feature_importances_\n",
    "    imp_f_list.append(imp)\n",
    "imp = pd.DataFrame(imp_f_list, columns=X.columns).mean()    \n",
    "imp = imp.sort_values(ascending=False)"
   ]
  },
  {
   "cell_type": "code",
   "execution_count": 25,
   "metadata": {},
   "outputs": [],
   "source": [
    "kegg_imp_features_patient = imp[:10]"
   ]
  },
  {
   "cell_type": "code",
   "execution_count": 26,
   "metadata": {},
   "outputs": [
    {
     "data": {
      "text/plain": [
       "K21576    0.008022\n",
       "K00254    0.005057\n",
       "K09740    0.004571\n",
       "K23393    0.004499\n",
       "K21395    0.004467\n",
       "K21577    0.004362\n",
       "K21417    0.004241\n",
       "K07149    0.004174\n",
       "K15724    0.004164\n",
       "K21578    0.003913\n",
       "dtype: float64"
      ]
     },
     "execution_count": 26,
     "metadata": {},
     "output_type": "execute_result"
    }
   ],
   "source": [
    "kegg_imp_features_patient"
   ]
  },
  {
   "cell_type": "markdown",
   "metadata": {},
   "source": [
    "# Onset"
   ]
  },
  {
   "cell_type": "code",
   "execution_count": 33,
   "metadata": {},
   "outputs": [],
   "source": [
    "y_full = meta_data.loc['illness_duration', :]\n",
    "model_list = load(\"%s/result/classification/onset_models_dictionary.joblib\" %(root))"
   ]
  },
  {
   "cell_type": "markdown",
   "metadata": {},
   "source": [
    "# abundance"
   ]
  },
  {
   "cell_type": "code",
   "execution_count": 34,
   "metadata": {},
   "outputs": [],
   "source": [
    "X = rela_abun_data[:].transpose()\n",
    "y = y_full[X.index].to_numpy()\n",
    "\n",
    "ramdon_num_list = random.sample(range(1, 2000), 200)\n",
    "rf_imp_f_list = []\n",
    "rf_list = []\n",
    "\n",
    "for i in ramdon_num_list:    \n",
    "    RF = RandomForestClassifier(bootstrap=True, ccp_alpha=0.0, class_weight=None,\n",
    "                         criterion='gini', max_depth=4, max_features=5,\n",
    "                         max_leaf_nodes=None, max_samples=None,\n",
    "                         min_impurity_decrease=0.0, min_impurity_split=None,\n",
    "                         min_samples_leaf=1, min_samples_split=20,\n",
    "                         min_weight_fraction_leaf=0.0, n_estimators=100,\n",
    "                         n_jobs=None, oob_score=False, random_state=i,\n",
    "                         verbose=0, warm_start=False)\n",
    "    rf_list.append((\"%s\" %(i), RF))\n",
    "    RF.fit(X, y)\n",
    "    imp = RF.feature_importances_\n",
    "    rf_imp_f_list.append(imp)\n",
    "rf_imp = pd.DataFrame(rf_imp_f_list, columns=X.columns).mean()    \n",
    "rf_imp = rf_imp.sort_values(ascending=False)"
   ]
  },
  {
   "cell_type": "code",
   "execution_count": 35,
   "metadata": {},
   "outputs": [],
   "source": [
    "abun_imp_features_onset = rf_imp[:10]"
   ]
  },
  {
   "cell_type": "markdown",
   "metadata": {},
   "source": [
    "# Metabolomics"
   ]
  },
  {
   "cell_type": "code",
   "execution_count": 36,
   "metadata": {},
   "outputs": [],
   "source": [
    "X = bioc_onset_data[:].transpose()\n",
    "y = y_full[X.index].to_numpy()\n",
    "\n",
    "ramdon_num_list = random.sample(range(1, 2000), 200)\n",
    "rf_imp_f_list = []\n",
    "rf_list = []\n",
    "\n",
    "for i in ramdon_num_list:\n",
    "    RF =  RandomForestClassifier(bootstrap=True, ccp_alpha=0.0, class_weight=None,\n",
    "                         criterion='entropy', max_depth=5, max_features=5,\n",
    "                         max_leaf_nodes=None, max_samples=None,\n",
    "                         min_impurity_decrease=0.0, min_impurity_split=None,\n",
    "                         min_samples_leaf=3, min_samples_split=6,\n",
    "                         min_weight_fraction_leaf=0.0, n_estimators=100,\n",
    "                         n_jobs=None, oob_score=False, random_state=i,\n",
    "                         verbose=0, warm_start=False)\n",
    "    rf_list.append((\"%s\" %(i), RF))\n",
    "    RF.fit(X, y)\n",
    "    imp = RF.feature_importances_\n",
    "    rf_imp_f_list.append(imp)\n",
    "rf_imp = pd.DataFrame(rf_imp_f_list, columns=X.columns).mean()    \n",
    "rf_imp = rf_imp.sort_values(ascending=False)"
   ]
  },
  {
   "cell_type": "code",
   "execution_count": 37,
   "metadata": {},
   "outputs": [],
   "source": [
    "bioc_imp_features_onset = rf_imp[:10]"
   ]
  },
  {
   "cell_type": "markdown",
   "metadata": {},
   "source": [
    "# Kegg gene"
   ]
  },
  {
   "cell_type": "code",
   "execution_count": 38,
   "metadata": {},
   "outputs": [],
   "source": [
    "X = kegg_onset_data[:].transpose()\n",
    "y = y_full[X.index].to_numpy()\n",
    "\n",
    "ramdon_num_list = random.sample(range(1, 2000), 200)\n",
    "rf_imp_f_list = []\n",
    "rf_list = []\n",
    "\n",
    "for i in ramdon_num_list:\n",
    "    RF = RandomForestClassifier(bootstrap=True, ccp_alpha=0.0, class_weight=None,\n",
    "                         criterion='gini', max_depth=7, max_features=40,\n",
    "                         max_leaf_nodes=None, max_samples=None,\n",
    "                         min_impurity_decrease=0.0, min_impurity_split=None,\n",
    "                         min_samples_leaf=1, min_samples_split=40,\n",
    "                         min_weight_fraction_leaf=0.0, n_estimators=100,\n",
    "                         n_jobs=None, oob_score=False, random_state=i,\n",
    "                         verbose=0, warm_start=False)\n",
    "    rf_list.append((\"%s\" %(i), RF))\n",
    "    RF.fit(X, y)\n",
    "    imp = RF.feature_importances_\n",
    "    rf_imp_f_list.append(imp)\n",
    "rf_imp = pd.DataFrame(rf_imp_f_list, columns=X.columns).mean()    \n",
    "rf_imp = rf_imp.sort_values(ascending=False)"
   ]
  },
  {
   "cell_type": "code",
   "execution_count": 39,
   "metadata": {},
   "outputs": [],
   "source": [
    "kegg_imp_features_onset = rf_imp[:10]"
   ]
  },
  {
   "cell_type": "markdown",
   "metadata": {},
   "source": [
    "# write all imp features"
   ]
  },
  {
   "cell_type": "code",
   "execution_count": 60,
   "metadata": {},
   "outputs": [],
   "source": [
    "imp_table = pd.DataFrame(0, index=range(1,11), columns=[0]).drop(0, 1)"
   ]
  },
  {
   "cell_type": "code",
   "execution_count": 71,
   "metadata": {},
   "outputs": [],
   "source": [
    "imp_table.loc[:,'patient_abun_name'] = abun_imp_features_patient.index\n",
    "imp_table.loc[:,'patient_abun_importance'] = abun_imp_features_patient.ravel()\n",
    "imp_table.loc[:,'onset_abun_name'] = abun_imp_features_onset.index\n",
    "imp_table.loc[:,'onset_abun_importance'] = abun_imp_features_onset.ravel()"
   ]
  },
  {
   "cell_type": "code",
   "execution_count": 73,
   "metadata": {},
   "outputs": [],
   "source": [
    "imp_table.loc[:,'patient_bioc_name'] = bioc_imp_features_patient.index\n",
    "imp_table.loc[:,'patient_bioc_importance'] = bioc_imp_features_patient.ravel()\n",
    "imp_table.loc[:,'onset_bioc_name'] = bioc_imp_features_onset.index\n",
    "imp_table.loc[:,'onset_bioc_importance'] = bioc_imp_features_onset.ravel()"
   ]
  },
  {
   "cell_type": "code",
   "execution_count": 74,
   "metadata": {},
   "outputs": [],
   "source": [
    "imp_table.loc[:,'patient_kegg_name'] = kegg_imp_features_patient.index\n",
    "imp_table.loc[:,'patient_kegg_importance'] = kegg_imp_features_patient.ravel()\n",
    "imp_table.loc[:,'onset_kegg_name'] = kegg_imp_features_onset.index\n",
    "imp_table.loc[:,'onset_kegg_importance'] = kegg_imp_features_onset.ravel()"
   ]
  },
  {
   "cell_type": "code",
   "execution_count": 76,
   "metadata": {},
   "outputs": [],
   "source": [
    "#imp_table.to_csv(\"%s/result/classification/important_features.csv\" %(root))"
   ]
  }
 ],
 "metadata": {
  "kernelspec": {
   "display_name": "Python 3 (ipykernel)",
   "language": "python",
   "name": "python3"
  },
  "language_info": {
   "codemirror_mode": {
    "name": "ipython",
    "version": 3
   },
   "file_extension": ".py",
   "mimetype": "text/x-python",
   "name": "python",
   "nbconvert_exporter": "python",
   "pygments_lexer": "ipython3",
   "version": "3.10.4"
  }
 },
 "nbformat": 4,
 "nbformat_minor": 4
}
